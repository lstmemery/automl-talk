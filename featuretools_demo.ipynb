{
 "cells": [
  {
   "cell_type": "markdown",
   "metadata": {
    "slideshow": {
     "slide_type": "slide"
    }
   },
   "source": [
    "# Automatic Feature Engineering with Featuretools\n",
    "by Matthew Emery"
   ]
  },
  {
   "cell_type": "code",
   "execution_count": 1,
   "metadata": {
    "collapsed": true,
    "slideshow": {
     "slide_type": "skip"
    }
   },
   "outputs": [],
   "source": [
    "import pandas as pd\n",
    "from xgboost import XGBClassifier, plot_importance\n",
    "from sklearn.dummy import DummyClassifier\n",
    "from sklearn.model_selection import cross_val_score\n",
    "import featuretools as ft\n",
    "from random import sample\n",
    "from sklearn.ensemble import ExtraTreesClassifier\n",
    "from sklearn.feature_selection import SelectFromModel\n",
    "from sklearn.pipeline import make_pipeline\n",
    "from sklearn.preprocessing import Imputer, StandardScaler\n",
    "import warnings\n",
    "from itertools import chain\n",
    "\n",
    "warnings.filterwarnings('ignore')"
   ]
  },
  {
   "cell_type": "code",
   "execution_count": 2,
   "metadata": {
    "collapsed": false,
    "slideshow": {
     "slide_type": "slide"
    }
   },
   "outputs": [
    {
     "data": {
      "text/html": [
       "<div>\n",
       "<style scoped>\n",
       "    .dataframe tbody tr th:only-of-type {\n",
       "        vertical-align: middle;\n",
       "    }\n",
       "\n",
       "    .dataframe tbody tr th {\n",
       "        vertical-align: top;\n",
       "    }\n",
       "\n",
       "    .dataframe thead th {\n",
       "        text-align: right;\n",
       "    }\n",
       "</style>\n",
       "<table border=\"1\" class=\"dataframe\">\n",
       "  <thead>\n",
       "    <tr style=\"text-align: right;\">\n",
       "      <th></th>\n",
       "      <th>PassengerId</th>\n",
       "      <th>Pclass</th>\n",
       "      <th>Name</th>\n",
       "      <th>Sex</th>\n",
       "      <th>Age</th>\n",
       "      <th>SibSp</th>\n",
       "      <th>Parch</th>\n",
       "      <th>Ticket</th>\n",
       "      <th>Fare</th>\n",
       "      <th>Cabin</th>\n",
       "      <th>Embarked</th>\n",
       "    </tr>\n",
       "  </thead>\n",
       "  <tbody>\n",
       "    <tr>\n",
       "      <th>31</th>\n",
       "      <td>32</td>\n",
       "      <td>1</td>\n",
       "      <td>Spencer, Mrs. William Augustus (Marie Eugenie)</td>\n",
       "      <td>female</td>\n",
       "      <td>NaN</td>\n",
       "      <td>1</td>\n",
       "      <td>0</td>\n",
       "      <td>PC 17569</td>\n",
       "      <td>146.5208</td>\n",
       "      <td>B78</td>\n",
       "      <td>C</td>\n",
       "    </tr>\n",
       "    <tr>\n",
       "      <th>692</th>\n",
       "      <td>693</td>\n",
       "      <td>3</td>\n",
       "      <td>Lam, Mr. Ali</td>\n",
       "      <td>male</td>\n",
       "      <td>NaN</td>\n",
       "      <td>0</td>\n",
       "      <td>0</td>\n",
       "      <td>1601</td>\n",
       "      <td>56.4958</td>\n",
       "      <td>NaN</td>\n",
       "      <td>S</td>\n",
       "    </tr>\n",
       "    <tr>\n",
       "      <th>74</th>\n",
       "      <td>75</td>\n",
       "      <td>3</td>\n",
       "      <td>Bing, Mr. Lee</td>\n",
       "      <td>male</td>\n",
       "      <td>32.0</td>\n",
       "      <td>0</td>\n",
       "      <td>0</td>\n",
       "      <td>1601</td>\n",
       "      <td>56.4958</td>\n",
       "      <td>NaN</td>\n",
       "      <td>S</td>\n",
       "    </tr>\n",
       "    <tr>\n",
       "      <th>491</th>\n",
       "      <td>492</td>\n",
       "      <td>3</td>\n",
       "      <td>Windelov, Mr. Einar</td>\n",
       "      <td>male</td>\n",
       "      <td>21.0</td>\n",
       "      <td>0</td>\n",
       "      <td>0</td>\n",
       "      <td>SOTON/OQ 3101317</td>\n",
       "      <td>7.2500</td>\n",
       "      <td>NaN</td>\n",
       "      <td>S</td>\n",
       "    </tr>\n",
       "    <tr>\n",
       "      <th>301</th>\n",
       "      <td>302</td>\n",
       "      <td>3</td>\n",
       "      <td>McCoy, Mr. Bernard</td>\n",
       "      <td>male</td>\n",
       "      <td>NaN</td>\n",
       "      <td>2</td>\n",
       "      <td>0</td>\n",
       "      <td>367226</td>\n",
       "      <td>23.2500</td>\n",
       "      <td>NaN</td>\n",
       "      <td>Q</td>\n",
       "    </tr>\n",
       "  </tbody>\n",
       "</table>\n",
       "</div>"
      ],
      "text/plain": [
       "     PassengerId Pclass                                            Name  \\\n",
       "31            32      1  Spencer, Mrs. William Augustus (Marie Eugenie)   \n",
       "692          693      3                                    Lam, Mr. Ali   \n",
       "74            75      3                                   Bing, Mr. Lee   \n",
       "491          492      3                             Windelov, Mr. Einar   \n",
       "301          302      3                              McCoy, Mr. Bernard   \n",
       "\n",
       "        Sex   Age  SibSp  Parch            Ticket      Fare Cabin Embarked  \n",
       "31   female   NaN      1      0          PC 17569  146.5208   B78        C  \n",
       "692    male   NaN      0      0              1601   56.4958   NaN        S  \n",
       "74     male  32.0      0      0              1601   56.4958   NaN        S  \n",
       "491    male  21.0      0      0  SOTON/OQ 3101317    7.2500   NaN        S  \n",
       "301    male   NaN      2      0            367226   23.2500   NaN        Q  "
      ]
     },
     "execution_count": 2,
     "metadata": {},
     "output_type": "execute_result"
    }
   ],
   "source": [
    "train_df = pd.read_csv(\"data/train.csv\")\n",
    "train_target = train_df[\"Survived\"]\n",
    "train_features = train_df.drop(columns=\"Survived\")\n",
    "train_features['Pclass'] = train_features['Pclass'].astype('category')\n",
    "train_features.sample(5)"
   ]
  },
  {
   "cell_type": "code",
   "execution_count": 3,
   "metadata": {
    "collapsed": false,
    "slideshow": {
     "slide_type": "slide"
    }
   },
   "outputs": [
    {
     "data": {
      "text/plain": [
       "(0.553259845647486, 0.05365918336658586)"
      ]
     },
     "execution_count": 3,
     "metadata": {},
     "output_type": "execute_result"
    }
   ],
   "source": [
    "basic_features = pd.get_dummies(train_features.drop(columns=[\"Name\", \"PassengerId\", \"Ticket\", \"Cabin\"]))\n",
    "\n",
    "dummy_model = DummyClassifier(random_state=0)\n",
    "dummy_cv = cross_val_score(dummy_model, basic_features, train_target, cv=10)\n",
    "dummy_cv.mean(), dummy_cv.std()"
   ]
  },
  {
   "cell_type": "code",
   "execution_count": 4,
   "metadata": {
    "collapsed": false,
    "slideshow": {
     "slide_type": "slide"
    }
   },
   "outputs": [
    {
     "data": {
      "text/plain": [
       "(0.8261133810010215, 0.0318043494707937)"
      ]
     },
     "execution_count": 4,
     "metadata": {},
     "output_type": "execute_result"
    }
   ],
   "source": [
    "basic_model = XGBClassifier(random_state=0)\n",
    "basic_cv = cross_val_score(basic_model, basic_features, train_target, cv=10)\n",
    "basic_cv.mean(), basic_cv.std()"
   ]
  },
  {
   "cell_type": "code",
   "execution_count": 5,
   "metadata": {
    "collapsed": false,
    "slideshow": {
     "slide_type": "subslide"
    }
   },
   "outputs": [
    {
     "data": {
      "text/plain": [
       "<matplotlib.axes._subplots.AxesSubplot at 0x7f1070d72828>"
      ]
     },
     "execution_count": 5,
     "metadata": {},
     "output_type": "execute_result"
    }
   ],
   "source": [
    "basic_model.fit(basic_features, train_target)\n",
    "plot_importance(basic_model, max_num_features=20)"
   ]
  },
  {
   "cell_type": "code",
   "execution_count": 6,
   "metadata": {
    "collapsed": false
   },
   "outputs": [
    {
     "data": {
      "text/plain": [
       "Entityset: titanic\n",
       "  Entities:\n",
       "    titanic (shape = [891, 8])\n",
       "    classes (shape = [3, 1])\n",
       "    sexes (shape = [2, 1])\n",
       "    embarkeds (shape = [4, 1])\n",
       "  Relationships:\n",
       "    titanic.Pclass -> classes.Pclass\n",
       "    titanic.Sex -> sexes.Sex\n",
       "    titanic.Embarked -> embarkeds.Embarked"
      ]
     },
     "execution_count": 6,
     "metadata": {},
     "output_type": "execute_result"
    }
   ],
   "source": [
    "#How about some feature engineering?\n",
    "ft_features = train_features.drop(columns=[\"Name\", \"Ticket\", \"Cabin\"])\n",
    "\n",
    "def build_entity_set(entity_name, \n",
    "                     index, \n",
    "                     catergorical_variables,\n",
    "                     df):\n",
    "    variable_dict = {variable: ft.variable_types.Categorical for \n",
    "                     variable in categorical_variables}\n",
    "    \n",
    "    es = ft.EntitySet(id=entity_name)\n",
    "    es.entity_from_dataframe(entity_id=entity_name,\n",
    "                             dataframe=df,\n",
    "                             index=index,\n",
    "                             variable_types=variable_dict)\n",
    "    \n",
    "    for variable in categorical_variables:\n",
    "        es.normalize_entity(base_entity_id=entity_name,\n",
    "                    new_entity_id=variable,\n",
    "                    index=variable)\n",
    "    return es\n",
    "\n",
    "build_entity_set(entity_name=\"titanic\",\n",
    "                 index=\"PassengerID\",\n",
    "                 categorical_variables=[\"Pclass\", \"Sex\", \"Embarked\"],\n",
    "                 \n",
    "                 )\n"
   ]
  },
  {
   "cell_type": "code",
   "execution_count": 7,
   "metadata": {
    "collapsed": false
   },
   "outputs": [
    {
     "name": "stdout",
     "output_type": "stream",
     "text": [
      "Built 94 features\n",
      "Elapsed: 00:00 | Remaining: 00:00 | Progress: 100%|██████████|| Calculated: 1/1 cutoff times\n"
     ]
    },
    {
     "data": {
      "text/html": [
       "<div>\n",
       "<style scoped>\n",
       "    .dataframe tbody tr th:only-of-type {\n",
       "        vertical-align: middle;\n",
       "    }\n",
       "\n",
       "    .dataframe tbody tr th {\n",
       "        vertical-align: top;\n",
       "    }\n",
       "\n",
       "    .dataframe thead th {\n",
       "        text-align: right;\n",
       "    }\n",
       "</style>\n",
       "<table border=\"1\" class=\"dataframe\">\n",
       "  <thead>\n",
       "    <tr style=\"text-align: right;\">\n",
       "      <th></th>\n",
       "      <th>Age</th>\n",
       "      <th>SibSp</th>\n",
       "      <th>Parch</th>\n",
       "      <th>Fare</th>\n",
       "      <th>Pclass = 3</th>\n",
       "      <th>Pclass = 1</th>\n",
       "      <th>Pclass = 2</th>\n",
       "      <th>Pclass = unknown</th>\n",
       "      <th>Sex = male</th>\n",
       "      <th>Sex = female</th>\n",
       "      <th>...</th>\n",
       "      <th>embarkeds.MEAN(titanic.Parch)</th>\n",
       "      <th>embarkeds.MEAN(titanic.Fare)</th>\n",
       "      <th>embarkeds.COUNT(titanic)</th>\n",
       "      <th>embarkeds.NUM_UNIQUE(titanic.Pclass)</th>\n",
       "      <th>embarkeds.NUM_UNIQUE(titanic.Sex)</th>\n",
       "      <th>embarkeds.MODE(titanic.Pclass) = 3.0</th>\n",
       "      <th>embarkeds.MODE(titanic.Pclass) = 1.0</th>\n",
       "      <th>embarkeds.MODE(titanic.Pclass) = unknown</th>\n",
       "      <th>embarkeds.MODE(titanic.Sex) = male</th>\n",
       "      <th>embarkeds.MODE(titanic.Sex) = unknown</th>\n",
       "    </tr>\n",
       "    <tr>\n",
       "      <th>PassengerId</th>\n",
       "      <th></th>\n",
       "      <th></th>\n",
       "      <th></th>\n",
       "      <th></th>\n",
       "      <th></th>\n",
       "      <th></th>\n",
       "      <th></th>\n",
       "      <th></th>\n",
       "      <th></th>\n",
       "      <th></th>\n",
       "      <th></th>\n",
       "      <th></th>\n",
       "      <th></th>\n",
       "      <th></th>\n",
       "      <th></th>\n",
       "      <th></th>\n",
       "      <th></th>\n",
       "      <th></th>\n",
       "      <th></th>\n",
       "      <th></th>\n",
       "      <th></th>\n",
       "    </tr>\n",
       "  </thead>\n",
       "  <tbody>\n",
       "    <tr>\n",
       "      <th>349</th>\n",
       "      <td>3.0</td>\n",
       "      <td>1</td>\n",
       "      <td>1</td>\n",
       "      <td>15.90</td>\n",
       "      <td>1</td>\n",
       "      <td>0</td>\n",
       "      <td>0</td>\n",
       "      <td>0</td>\n",
       "      <td>1</td>\n",
       "      <td>0</td>\n",
       "      <td>...</td>\n",
       "      <td>0.413043</td>\n",
       "      <td>27.079812</td>\n",
       "      <td>644.0</td>\n",
       "      <td>3.0</td>\n",
       "      <td>2.0</td>\n",
       "      <td>1</td>\n",
       "      <td>0</td>\n",
       "      <td>0</td>\n",
       "      <td>1</td>\n",
       "      <td>0</td>\n",
       "    </tr>\n",
       "    <tr>\n",
       "      <th>275</th>\n",
       "      <td>NaN</td>\n",
       "      <td>0</td>\n",
       "      <td>0</td>\n",
       "      <td>7.75</td>\n",
       "      <td>1</td>\n",
       "      <td>0</td>\n",
       "      <td>0</td>\n",
       "      <td>0</td>\n",
       "      <td>0</td>\n",
       "      <td>1</td>\n",
       "      <td>...</td>\n",
       "      <td>0.168831</td>\n",
       "      <td>13.276030</td>\n",
       "      <td>77.0</td>\n",
       "      <td>3.0</td>\n",
       "      <td>2.0</td>\n",
       "      <td>1</td>\n",
       "      <td>0</td>\n",
       "      <td>0</td>\n",
       "      <td>1</td>\n",
       "      <td>0</td>\n",
       "    </tr>\n",
       "    <tr>\n",
       "      <th>590</th>\n",
       "      <td>NaN</td>\n",
       "      <td>0</td>\n",
       "      <td>0</td>\n",
       "      <td>8.05</td>\n",
       "      <td>1</td>\n",
       "      <td>0</td>\n",
       "      <td>0</td>\n",
       "      <td>0</td>\n",
       "      <td>1</td>\n",
       "      <td>0</td>\n",
       "      <td>...</td>\n",
       "      <td>0.413043</td>\n",
       "      <td>27.079812</td>\n",
       "      <td>644.0</td>\n",
       "      <td>3.0</td>\n",
       "      <td>2.0</td>\n",
       "      <td>1</td>\n",
       "      <td>0</td>\n",
       "      <td>0</td>\n",
       "      <td>1</td>\n",
       "      <td>0</td>\n",
       "    </tr>\n",
       "    <tr>\n",
       "      <th>557</th>\n",
       "      <td>48.0</td>\n",
       "      <td>1</td>\n",
       "      <td>0</td>\n",
       "      <td>39.60</td>\n",
       "      <td>0</td>\n",
       "      <td>1</td>\n",
       "      <td>0</td>\n",
       "      <td>0</td>\n",
       "      <td>0</td>\n",
       "      <td>1</td>\n",
       "      <td>...</td>\n",
       "      <td>0.363095</td>\n",
       "      <td>59.954144</td>\n",
       "      <td>168.0</td>\n",
       "      <td>3.0</td>\n",
       "      <td>2.0</td>\n",
       "      <td>0</td>\n",
       "      <td>1</td>\n",
       "      <td>0</td>\n",
       "      <td>1</td>\n",
       "      <td>0</td>\n",
       "    </tr>\n",
       "    <tr>\n",
       "      <th>320</th>\n",
       "      <td>40.0</td>\n",
       "      <td>1</td>\n",
       "      <td>1</td>\n",
       "      <td>134.50</td>\n",
       "      <td>0</td>\n",
       "      <td>1</td>\n",
       "      <td>0</td>\n",
       "      <td>0</td>\n",
       "      <td>0</td>\n",
       "      <td>1</td>\n",
       "      <td>...</td>\n",
       "      <td>0.363095</td>\n",
       "      <td>59.954144</td>\n",
       "      <td>168.0</td>\n",
       "      <td>3.0</td>\n",
       "      <td>2.0</td>\n",
       "      <td>0</td>\n",
       "      <td>1</td>\n",
       "      <td>0</td>\n",
       "      <td>1</td>\n",
       "      <td>0</td>\n",
       "    </tr>\n",
       "  </tbody>\n",
       "</table>\n",
       "<p>5 rows × 109 columns</p>\n",
       "</div>"
      ],
      "text/plain": [
       "              Age  SibSp  Parch    Fare  Pclass = 3  Pclass = 1  Pclass = 2  \\\n",
       "PassengerId                                                                   \n",
       "349           3.0      1      1   15.90           1           0           0   \n",
       "275           NaN      0      0    7.75           1           0           0   \n",
       "590           NaN      0      0    8.05           1           0           0   \n",
       "557          48.0      1      0   39.60           0           1           0   \n",
       "320          40.0      1      1  134.50           0           1           0   \n",
       "\n",
       "             Pclass = unknown  Sex = male  Sex = female  \\\n",
       "PassengerId                                               \n",
       "349                         0           1             0   \n",
       "275                         0           0             1   \n",
       "590                         0           1             0   \n",
       "557                         0           0             1   \n",
       "320                         0           0             1   \n",
       "\n",
       "                             ...                    \\\n",
       "PassengerId                  ...                     \n",
       "349                          ...                     \n",
       "275                          ...                     \n",
       "590                          ...                     \n",
       "557                          ...                     \n",
       "320                          ...                     \n",
       "\n",
       "             embarkeds.MEAN(titanic.Parch)  embarkeds.MEAN(titanic.Fare)  \\\n",
       "PassengerId                                                                \n",
       "349                               0.413043                     27.079812   \n",
       "275                               0.168831                     13.276030   \n",
       "590                               0.413043                     27.079812   \n",
       "557                               0.363095                     59.954144   \n",
       "320                               0.363095                     59.954144   \n",
       "\n",
       "             embarkeds.COUNT(titanic)  embarkeds.NUM_UNIQUE(titanic.Pclass)  \\\n",
       "PassengerId                                                                   \n",
       "349                             644.0                                   3.0   \n",
       "275                              77.0                                   3.0   \n",
       "590                             644.0                                   3.0   \n",
       "557                             168.0                                   3.0   \n",
       "320                             168.0                                   3.0   \n",
       "\n",
       "             embarkeds.NUM_UNIQUE(titanic.Sex)  \\\n",
       "PassengerId                                      \n",
       "349                                        2.0   \n",
       "275                                        2.0   \n",
       "590                                        2.0   \n",
       "557                                        2.0   \n",
       "320                                        2.0   \n",
       "\n",
       "             embarkeds.MODE(titanic.Pclass) = 3.0  \\\n",
       "PassengerId                                         \n",
       "349                                             1   \n",
       "275                                             1   \n",
       "590                                             1   \n",
       "557                                             0   \n",
       "320                                             0   \n",
       "\n",
       "             embarkeds.MODE(titanic.Pclass) = 1.0  \\\n",
       "PassengerId                                         \n",
       "349                                             0   \n",
       "275                                             0   \n",
       "590                                             0   \n",
       "557                                             1   \n",
       "320                                             1   \n",
       "\n",
       "             embarkeds.MODE(titanic.Pclass) = unknown  \\\n",
       "PassengerId                                             \n",
       "349                                                 0   \n",
       "275                                                 0   \n",
       "590                                                 0   \n",
       "557                                                 0   \n",
       "320                                                 0   \n",
       "\n",
       "             embarkeds.MODE(titanic.Sex) = male  \\\n",
       "PassengerId                                       \n",
       "349                                           1   \n",
       "275                                           1   \n",
       "590                                           1   \n",
       "557                                           1   \n",
       "320                                           1   \n",
       "\n",
       "             embarkeds.MODE(titanic.Sex) = unknown  \n",
       "PassengerId                                         \n",
       "349                                              0  \n",
       "275                                              0  \n",
       "590                                              0  \n",
       "557                                              0  \n",
       "320                                              0  \n",
       "\n",
       "[5 rows x 109 columns]"
      ]
     },
     "execution_count": 7,
     "metadata": {},
     "output_type": "execute_result"
    }
   ],
   "source": [
    "feature_matrix, features = ft.dfs(entityset=es,\n",
    "                              target_entity=\"titanic\",\n",
    "                              save_progress=\"results/\",\n",
    "                              verbose=True)\n",
    "\n",
    "feature_matrix, features = ft.encode_features(feature_matrix, features)\n",
    "\n",
    "feature_matrix.sample(5)"
   ]
  },
  {
   "cell_type": "code",
   "execution_count": 8,
   "metadata": {
    "collapsed": false
   },
   "outputs": [
    {
     "data": {
      "text/plain": [
       "[<Feature: embarkeds.MEAN(titanic.SibSp)>,\n",
       " <Feature: sexes.SUM(titanic.Age)>,\n",
       " <Feature: embarkeds.MIN(titanic.SibSp)>,\n",
       " <Feature: classes.COUNT(titanic)>,\n",
       " <Feature: embarkeds.MODE(titanic.Sex) = unknown>]"
      ]
     },
     "execution_count": 8,
     "metadata": {},
     "output_type": "execute_result"
    }
   ],
   "source": [
    "sample(features, 5)"
   ]
  },
  {
   "cell_type": "code",
   "execution_count": 9,
   "metadata": {
    "collapsed": false
   },
   "outputs": [
    {
     "data": {
      "text/plain": [
       "(0.823891442515038, 0.03353671785874994)"
      ]
     },
     "execution_count": 9,
     "metadata": {},
     "output_type": "execute_result"
    }
   ],
   "source": [
    "ft_cv = cross_val_score(basic_model, feature_matrix, train_target, cv=10)\n",
    "ft_cv.mean(), ft_cv.std()"
   ]
  },
  {
   "cell_type": "code",
   "execution_count": 10,
   "metadata": {
    "collapsed": true
   },
   "outputs": [],
   "source": [
    "train_features['CabinClass'] = train_features[\"Cabin\"].str.get(0)\n",
    "train_features['LastName'] = train_features['Name'].str.split(\", \").apply(lambda x: x[0])\n",
    "train_features['Honorific'] = train_features['Name'].str.extract(\" ([a-zA-z]+)\")\n",
    "train_features['TicketPrefix'] = train_features['Ticket'].str.extract(\"(.+) \")\n",
    "# train_features['TicketNumber'] = train_features['Ticket'].str.extract(\"([0-9]+)$\").astype(float)\n",
    "train_features = train_features.drop(columns=[\"Name\", \"Cabin\", \"Ticket\"])"
   ]
  },
  {
   "cell_type": "code",
   "execution_count": 11,
   "metadata": {
    "collapsed": false
   },
   "outputs": [
    {
     "name": "stdout",
     "output_type": "stream",
     "text": [
      "Built 270 features\n",
      "Elapsed: 00:05 | Remaining: 00:00 | Progress: 100%|██████████|| Calculated: 1/1 cutoff times\n"
     ]
    },
    {
     "data": {
      "text/html": [
       "<div>\n",
       "<style scoped>\n",
       "    .dataframe tbody tr th:only-of-type {\n",
       "        vertical-align: middle;\n",
       "    }\n",
       "\n",
       "    .dataframe tbody tr th {\n",
       "        vertical-align: top;\n",
       "    }\n",
       "\n",
       "    .dataframe thead th {\n",
       "        text-align: right;\n",
       "    }\n",
       "</style>\n",
       "<table border=\"1\" class=\"dataframe\">\n",
       "  <thead>\n",
       "    <tr style=\"text-align: right;\">\n",
       "      <th></th>\n",
       "      <th>Age</th>\n",
       "      <th>SibSp</th>\n",
       "      <th>Parch</th>\n",
       "      <th>Fare</th>\n",
       "      <th>Pclass = 3</th>\n",
       "      <th>Pclass = 1</th>\n",
       "      <th>Pclass = 2</th>\n",
       "      <th>Pclass = unknown</th>\n",
       "      <th>Sex = male</th>\n",
       "      <th>Sex = female</th>\n",
       "      <th>...</th>\n",
       "      <th>ticketprefixes.MODE(titanic.LastName) = Corn</th>\n",
       "      <th>ticketprefixes.MODE(titanic.LastName) = Hakkarainen</th>\n",
       "      <th>ticketprefixes.MODE(titanic.LastName) = unknown</th>\n",
       "      <th>ticketprefixes.MODE(titanic.Honorific) = Mr</th>\n",
       "      <th>ticketprefixes.MODE(titanic.Honorific) = Miss</th>\n",
       "      <th>ticketprefixes.MODE(titanic.Honorific) = Master</th>\n",
       "      <th>ticketprefixes.MODE(titanic.Honorific) = Capt</th>\n",
       "      <th>ticketprefixes.MODE(titanic.Honorific) = Rev</th>\n",
       "      <th>ticketprefixes.MODE(titanic.Honorific) = Mrs</th>\n",
       "      <th>ticketprefixes.MODE(titanic.Honorific) = unknown</th>\n",
       "    </tr>\n",
       "    <tr>\n",
       "      <th>PassengerId</th>\n",
       "      <th></th>\n",
       "      <th></th>\n",
       "      <th></th>\n",
       "      <th></th>\n",
       "      <th></th>\n",
       "      <th></th>\n",
       "      <th></th>\n",
       "      <th></th>\n",
       "      <th></th>\n",
       "      <th></th>\n",
       "      <th></th>\n",
       "      <th></th>\n",
       "      <th></th>\n",
       "      <th></th>\n",
       "      <th></th>\n",
       "      <th></th>\n",
       "      <th></th>\n",
       "      <th></th>\n",
       "      <th></th>\n",
       "      <th></th>\n",
       "      <th></th>\n",
       "    </tr>\n",
       "  </thead>\n",
       "  <tbody>\n",
       "    <tr>\n",
       "      <th>860</th>\n",
       "      <td>NaN</td>\n",
       "      <td>0</td>\n",
       "      <td>0</td>\n",
       "      <td>7.2292</td>\n",
       "      <td>1</td>\n",
       "      <td>0</td>\n",
       "      <td>0</td>\n",
       "      <td>0</td>\n",
       "      <td>1</td>\n",
       "      <td>0</td>\n",
       "      <td>...</td>\n",
       "      <td>0</td>\n",
       "      <td>0</td>\n",
       "      <td>1</td>\n",
       "      <td>0</td>\n",
       "      <td>0</td>\n",
       "      <td>0</td>\n",
       "      <td>0</td>\n",
       "      <td>0</td>\n",
       "      <td>0</td>\n",
       "      <td>1</td>\n",
       "    </tr>\n",
       "    <tr>\n",
       "      <th>58</th>\n",
       "      <td>28.5</td>\n",
       "      <td>0</td>\n",
       "      <td>0</td>\n",
       "      <td>7.2292</td>\n",
       "      <td>1</td>\n",
       "      <td>0</td>\n",
       "      <td>0</td>\n",
       "      <td>0</td>\n",
       "      <td>1</td>\n",
       "      <td>0</td>\n",
       "      <td>...</td>\n",
       "      <td>0</td>\n",
       "      <td>0</td>\n",
       "      <td>1</td>\n",
       "      <td>0</td>\n",
       "      <td>0</td>\n",
       "      <td>0</td>\n",
       "      <td>0</td>\n",
       "      <td>0</td>\n",
       "      <td>0</td>\n",
       "      <td>1</td>\n",
       "    </tr>\n",
       "    <tr>\n",
       "      <th>403</th>\n",
       "      <td>21.0</td>\n",
       "      <td>1</td>\n",
       "      <td>0</td>\n",
       "      <td>9.8250</td>\n",
       "      <td>1</td>\n",
       "      <td>0</td>\n",
       "      <td>0</td>\n",
       "      <td>0</td>\n",
       "      <td>0</td>\n",
       "      <td>1</td>\n",
       "      <td>...</td>\n",
       "      <td>0</td>\n",
       "      <td>0</td>\n",
       "      <td>1</td>\n",
       "      <td>0</td>\n",
       "      <td>0</td>\n",
       "      <td>0</td>\n",
       "      <td>0</td>\n",
       "      <td>0</td>\n",
       "      <td>0</td>\n",
       "      <td>1</td>\n",
       "    </tr>\n",
       "    <tr>\n",
       "      <th>657</th>\n",
       "      <td>NaN</td>\n",
       "      <td>0</td>\n",
       "      <td>0</td>\n",
       "      <td>7.8958</td>\n",
       "      <td>1</td>\n",
       "      <td>0</td>\n",
       "      <td>0</td>\n",
       "      <td>0</td>\n",
       "      <td>1</td>\n",
       "      <td>0</td>\n",
       "      <td>...</td>\n",
       "      <td>0</td>\n",
       "      <td>0</td>\n",
       "      <td>1</td>\n",
       "      <td>0</td>\n",
       "      <td>0</td>\n",
       "      <td>0</td>\n",
       "      <td>0</td>\n",
       "      <td>0</td>\n",
       "      <td>0</td>\n",
       "      <td>1</td>\n",
       "    </tr>\n",
       "    <tr>\n",
       "      <th>712</th>\n",
       "      <td>NaN</td>\n",
       "      <td>0</td>\n",
       "      <td>0</td>\n",
       "      <td>26.5500</td>\n",
       "      <td>0</td>\n",
       "      <td>1</td>\n",
       "      <td>0</td>\n",
       "      <td>0</td>\n",
       "      <td>1</td>\n",
       "      <td>0</td>\n",
       "      <td>...</td>\n",
       "      <td>0</td>\n",
       "      <td>0</td>\n",
       "      <td>1</td>\n",
       "      <td>0</td>\n",
       "      <td>0</td>\n",
       "      <td>0</td>\n",
       "      <td>0</td>\n",
       "      <td>0</td>\n",
       "      <td>0</td>\n",
       "      <td>1</td>\n",
       "    </tr>\n",
       "  </tbody>\n",
       "</table>\n",
       "<p>5 rows × 459 columns</p>\n",
       "</div>"
      ],
      "text/plain": [
       "              Age  SibSp  Parch     Fare  Pclass = 3  Pclass = 1  Pclass = 2  \\\n",
       "PassengerId                                                                    \n",
       "860           NaN      0      0   7.2292           1           0           0   \n",
       "58           28.5      0      0   7.2292           1           0           0   \n",
       "403          21.0      1      0   9.8250           1           0           0   \n",
       "657           NaN      0      0   7.8958           1           0           0   \n",
       "712           NaN      0      0  26.5500           0           1           0   \n",
       "\n",
       "             Pclass = unknown  Sex = male  Sex = female  \\\n",
       "PassengerId                                               \n",
       "860                         0           1             0   \n",
       "58                          0           1             0   \n",
       "403                         0           0             1   \n",
       "657                         0           1             0   \n",
       "712                         0           1             0   \n",
       "\n",
       "                                   ...                         \\\n",
       "PassengerId                        ...                          \n",
       "860                                ...                          \n",
       "58                                 ...                          \n",
       "403                                ...                          \n",
       "657                                ...                          \n",
       "712                                ...                          \n",
       "\n",
       "             ticketprefixes.MODE(titanic.LastName) = Corn  \\\n",
       "PassengerId                                                 \n",
       "860                                                     0   \n",
       "58                                                      0   \n",
       "403                                                     0   \n",
       "657                                                     0   \n",
       "712                                                     0   \n",
       "\n",
       "             ticketprefixes.MODE(titanic.LastName) = Hakkarainen  \\\n",
       "PassengerId                                                        \n",
       "860                                                          0     \n",
       "58                                                           0     \n",
       "403                                                          0     \n",
       "657                                                          0     \n",
       "712                                                          0     \n",
       "\n",
       "             ticketprefixes.MODE(titanic.LastName) = unknown  \\\n",
       "PassengerId                                                    \n",
       "860                                                        1   \n",
       "58                                                         1   \n",
       "403                                                        1   \n",
       "657                                                        1   \n",
       "712                                                        1   \n",
       "\n",
       "             ticketprefixes.MODE(titanic.Honorific) = Mr  \\\n",
       "PassengerId                                                \n",
       "860                                                    0   \n",
       "58                                                     0   \n",
       "403                                                    0   \n",
       "657                                                    0   \n",
       "712                                                    0   \n",
       "\n",
       "             ticketprefixes.MODE(titanic.Honorific) = Miss  \\\n",
       "PassengerId                                                  \n",
       "860                                                      0   \n",
       "58                                                       0   \n",
       "403                                                      0   \n",
       "657                                                      0   \n",
       "712                                                      0   \n",
       "\n",
       "             ticketprefixes.MODE(titanic.Honorific) = Master  \\\n",
       "PassengerId                                                    \n",
       "860                                                        0   \n",
       "58                                                         0   \n",
       "403                                                        0   \n",
       "657                                                        0   \n",
       "712                                                        0   \n",
       "\n",
       "             ticketprefixes.MODE(titanic.Honorific) = Capt  \\\n",
       "PassengerId                                                  \n",
       "860                                                      0   \n",
       "58                                                       0   \n",
       "403                                                      0   \n",
       "657                                                      0   \n",
       "712                                                      0   \n",
       "\n",
       "             ticketprefixes.MODE(titanic.Honorific) = Rev  \\\n",
       "PassengerId                                                 \n",
       "860                                                     0   \n",
       "58                                                      0   \n",
       "403                                                     0   \n",
       "657                                                     0   \n",
       "712                                                     0   \n",
       "\n",
       "             ticketprefixes.MODE(titanic.Honorific) = Mrs  \\\n",
       "PassengerId                                                 \n",
       "860                                                     0   \n",
       "58                                                      0   \n",
       "403                                                     0   \n",
       "657                                                     0   \n",
       "712                                                     0   \n",
       "\n",
       "             ticketprefixes.MODE(titanic.Honorific) = unknown  \n",
       "PassengerId                                                    \n",
       "860                                                         1  \n",
       "58                                                          1  \n",
       "403                                                         1  \n",
       "657                                                         1  \n",
       "712                                                         1  \n",
       "\n",
       "[5 rows x 459 columns]"
      ]
     },
     "execution_count": 11,
     "metadata": {},
     "output_type": "execute_result"
    }
   ],
   "source": [
    "es = ft.EntitySet(id=\"titanic\")\n",
    "es.entity_from_dataframe(entity_id=\"titanic\",\n",
    "                         dataframe=train_features,\n",
    "                         index=\"PassengerId\",\n",
    "                         variable_types={\n",
    "                             \"Pclass\": ft.variable_types.Categorical,\n",
    "                             \"Sex\": ft.variable_types.Categorical,\n",
    "                             \"Embarked\": ft.variable_types.Categorical,\n",
    "                             \"CabinClass\": ft.variable_types.Categorical,\n",
    "                             \"LastName\": ft.variable_types.Categorical,\n",
    "                             \"Honorific\": ft.variable_types.Categorical,\n",
    "                             \"TicketPrefix\": ft.variable_types.Categorical\n",
    "                           })\n",
    "es.normalize_entity(base_entity_id=\"titanic\",\n",
    "                new_entity_id=\"classes\",\n",
    "                index=\"Pclass\")\n",
    "es.normalize_entity(base_entity_id=\"titanic\",\n",
    "                new_entity_id=\"sexes\",\n",
    "                index=\"Sex\")\n",
    "es.normalize_entity(base_entity_id=\"titanic\",\n",
    "                new_entity_id=\"embarkeds\",\n",
    "                index=\"Embarked\")\n",
    "es.normalize_entity(base_entity_id=\"titanic\",\n",
    "                new_entity_id=\"cabinclasses\",\n",
    "                index=\"CabinClass\")\n",
    "es.normalize_entity(base_entity_id=\"titanic\",\n",
    "                new_entity_id=\"honorfics\",\n",
    "                index=\"Honorific\")\n",
    "es.normalize_entity(base_entity_id=\"titanic\",\n",
    "                new_entity_id=\"lastnames\",\n",
    "                index=\"LastName\")\n",
    "es.normalize_entity(base_entity_id=\"titanic\",\n",
    "                new_entity_id=\"ticketprefixes\",\n",
    "                index=\"TicketPrefix\")\n",
    "\n",
    "feature_matrix, features = ft.dfs(entityset=es,\n",
    "                              target_entity=\"titanic\",\n",
    "                              save_progress=\"results/\",\n",
    "                              verbose=True)\n",
    "\n",
    "feature_matrix, features = ft.encode_features(feature_matrix, features)\n",
    "\n",
    "feature_matrix.sample(5)"
   ]
  },
  {
   "cell_type": "code",
   "execution_count": 12,
   "metadata": {
    "collapsed": false
   },
   "outputs": [
    {
     "data": {
      "text/plain": [
       "(0.8372869140846669, 0.041087687111902735)"
      ]
     },
     "execution_count": 12,
     "metadata": {},
     "output_type": "execute_result"
    }
   ],
   "source": [
    "expanded_ft_cv = cross_val_score(basic_model, feature_matrix, train_target, cv=10)\n",
    "expanded_ft_cv.mean(), expanded_ft_cv.std()"
   ]
  },
  {
   "cell_type": "code",
   "execution_count": 13,
   "metadata": {
    "collapsed": false
   },
   "outputs": [
    {
     "data": {
      "text/plain": [
       "(0.8394966519123823, 0.0395795692850875)"
      ]
     },
     "execution_count": 13,
     "metadata": {},
     "output_type": "execute_result"
    }
   ],
   "source": [
    "pipeline = make_pipeline(\n",
    "    Imputer(strategy='median'),\n",
    "    SelectFromModel(ExtraTreesClassifier(random_state=0, n_estimators=100), 'median'),\n",
    "    XGBClassifier(random_state=0)\n",
    ")\n",
    "\n",
    "selected_ft_cv = cross_val_score(pipeline, feature_matrix, train_target, cv=10)\n",
    "selected_ft_cv.mean(), selected_ft_cv.std()"
   ]
  },
  {
   "cell_type": "code",
   "execution_count": 14,
   "metadata": {
    "collapsed": true
   },
   "outputs": [],
   "source": [
    "import seaborn as sns\n",
    "import numpy as np\n",
    "%matplotlib inline"
   ]
  },
  {
   "cell_type": "code",
   "execution_count": 15,
   "metadata": {
    "collapsed": false
   },
   "outputs": [
    {
     "data": {
      "text/plain": [
       "(array([0.8       , 0.8       , 0.7752809 , 0.87640449, 0.85393258,\n",
       "        0.83146067, 0.85393258, 0.78651685, 0.84269663, 0.84090909]),\n",
       " array([0.78888889, 0.8       , 0.7752809 , 0.87640449, 0.86516854,\n",
       "        0.83146067, 0.82022472, 0.78651685, 0.84269663, 0.85227273]),\n",
       " array([0.83333333, 0.82222222, 0.74157303, 0.88764045, 0.87640449,\n",
       "        0.79775281, 0.84269663, 0.85393258, 0.87640449, 0.84090909]),\n",
       " array([0.82222222, 0.86666667, 0.76404494, 0.88764045, 0.8988764 ,\n",
       "        0.78651685, 0.83146067, 0.84269663, 0.85393258, 0.84090909]))"
      ]
     },
     "execution_count": 15,
     "metadata": {},
     "output_type": "execute_result"
    }
   ],
   "source": [
    "basic_cv, ft_cv, expanded_ft_cv, selected_ft_cv"
   ]
  },
  {
   "cell_type": "code",
   "execution_count": 16,
   "metadata": {
    "collapsed": false
   },
   "outputs": [
    {
     "data": {
      "text/plain": [
       "<matplotlib.axes._subplots.AxesSubplot at 0x7f10700b2da0>"
      ]
     },
     "execution_count": 16,
     "metadata": {},
     "output_type": "execute_result"
    },
    {
     "data": {
      "image/png": "[encoded data removed]",
      "text/plain": [
       "<matplotlib.figure.Figure at 0x7f1070115e10>"
      ]
     },
     "metadata": {},
     "output_type": "display_data"
    }
   ],
   "source": [
    "basic_model.fit(feature_matrix, train_target)\n",
    "plot_importance(basic_model, max_num_features=20)"
   ]
  },
  {
   "cell_type": "code",
   "execution_count": 17,
   "metadata": {
    "collapsed": true
   },
   "outputs": [],
   "source": [
    "\n",
    "df = pd.DataFrame(\n",
    "    {\"Model\": list(chain.from_iterable([[x] * 10 for x in (\"Basic Features\", \n",
    "                                                           \"Naive Featuretools\",\n",
    "                                                           \"Smarter Featuretools\",\n",
    "                                                           \"Selected Featuretools\")])),\n",
    "        \"CV Fold Accuracy\": np.concatenate([basic_cv, ft_cv, expanded_ft_cv, selected_ft_cv])} )"
   ]
  },
  {
   "cell_type": "code",
   "execution_count": 18,
   "metadata": {
    "collapsed": false
   },
   "outputs": [
    {
     "data": {
      "text/plain": [
       "<matplotlib.axes._subplots.AxesSubplot at 0x7f106b4bdac8>"
      ]
     },
     "execution_count": 18,
     "metadata": {},
     "output_type": "execute_result"
    },
    {
     "data": {
      "image/png": "[encoded data removed]",
      "text/plain": [
       "<matplotlib.figure.Figure at 0x7f1070a064e0>"
      ]
     },
     "metadata": {},
     "output_type": "display_data"
    }
   ],
   "source": [
    "sns.boxplot(\"Model\", \"CV Fold Accuracy\", data = df)"
   ]
  },
  {
   "cell_type": "code",
   "execution_count": null,
   "metadata": {
    "collapsed": true
   },
   "outputs": [],
   "source": []
  }
 ],
 "metadata": {
  "kernelspec": {
   "display_name": "Python 3",
   "language": "python",
   "name": "python3"
  },
  "language_info": {
   "codemirror_mode": {
    "name": "ipython",
    "version": 3
   },
   "file_extension": ".py",
   "mimetype": "text/x-python",
   "name": "python",
   "nbconvert_exporter": "python",
   "pygments_lexer": "ipython3",
   "version": "3.6.0"
  }
 },
 "nbformat": 4,
 "nbformat_minor": 2
}
