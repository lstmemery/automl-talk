{
 "cells": [
  {
   "cell_type": "code",
   "execution_count": 32,
   "metadata": {},
   "outputs": [],
   "source": [
    "import pickle\n",
    "from mlxtend.classifier import StackingClassifier\n",
    "import pandas as pd\n",
    "import featuretools as ft\n",
    "from sklearn.preprocessing import Imputer\n",
    "from sklearn.pipeline import Pipeline, make_pipeline\n",
    "from hpsklearn import HyperoptEstimator, any_classifier\n",
    "import numpy as np\n",
    "from collections import defaultdict\n",
    "import seaborn as sns\n",
    "from sklearn.calibration import CalibratedClassifierCV\n",
    "from xgboost import XGBClassifier\n",
    "from sklearn.model_selection import cross_val_score\n",
    "\n",
    "%matplotlib inline"
   ]
  },
  {
   "cell_type": "code",
   "execution_count": 3,
   "metadata": {},
   "outputs": [],
   "source": [
    "pickle_files = [\n",
    "                ('extra_trees', '0.157_100_extra_trees_titanic_dfs_ensemble_estimator.pickle'),\n",
    "               ('knn', '0.157_100_knn_titanic_dfs_ensemble_estimator.pickle'),\n",
    "               ('random_forest', '0.163_100_random_forest_titanic_dfs_ensemble_estimator.pickle'),\n",
    "               ('sgd', '0.163_100_sgd_titanic_dfs_ensemble_estimator.pickle'),\n",
    "               ('xgboost_classification', '0.163_100_xgboost_classification_titanic_dfs_ensemble_estimator.pickle'),\n",
    "                ('ada_boost', '0.157_100_ada_boost_titanic_dfs_ensemble_estimator.pickle')\n",
    "               ]"
   ]
  },
  {
   "cell_type": "code",
   "execution_count": 9,
   "metadata": {},
   "outputs": [
    {
     "name": "stderr",
     "output_type": "stream",
     "text": [
      "/home/deadhead/miniconda3/envs/automl-talk/lib/python3.6/site-packages/ipykernel_launcher.py:5: FutureWarning: currently extract(expand=None) means expand=False (return Index/Series/DataFrame) but in a future version of pandas this will be changed to expand=True (return DataFrame)\n",
      "  \"\"\"\n",
      "/home/deadhead/miniconda3/envs/automl-talk/lib/python3.6/site-packages/ipykernel_launcher.py:6: FutureWarning: currently extract(expand=None) means expand=False (return Index/Series/DataFrame) but in a future version of pandas this will be changed to expand=True (return DataFrame)\n",
      "  \n",
      "/home/deadhead/miniconda3/envs/automl-talk/lib/python3.6/site-packages/ipykernel_launcher.py:7: FutureWarning: currently extract(expand=None) means expand=False (return Index/Series/DataFrame) but in a future version of pandas this will be changed to expand=True (return DataFrame)\n",
      "  import sys\n"
     ]
    },
    {
     "name": "stdout",
     "output_type": "stream",
     "text": [
      "Built 313 features\n",
      "Elapsed: 00:18 | Remaining: 00:00 | Progress: 100%|██████████|| Calculated: 1/1 cutoff times\n"
     ]
    }
   ],
   "source": [
    "train_df = pd.read_csv(\"data/train.csv\")\n",
    "train_df[\"Pclass\"] = train_df[\"Pclass\"].astype(\"category\")\n",
    "train_df['CabinClass'] = train_df[\"Cabin\"].str.get(0)\n",
    "train_df['LastName'] = train_df['Name'].str.split(\", \").apply(lambda x: x[0])\n",
    "train_df['Honorific'] = train_df['Name'].str.extract(\" ([a-zA-z]+)\")\n",
    "train_df['TicketPrefix'] = train_df['Ticket'].str.extract(\"(.+) \")\n",
    "train_df['TicketNumber'] = train_df['Ticket'].str.extract(\"([0-9]+)$\").astype(float)\n",
    "train_df = train_df.drop(columns=[\"Name\", \"Cabin\", \"Ticket\"])\n",
    "train_features = train_df.drop(columns=[\"Survived\"])\n",
    "train_target = train_df[\"Survived\"]\n",
    "es = ft.EntitySet(id=\"titanic\")\n",
    "es.entity_from_dataframe(entity_id=\"titanic\",\n",
    "                         dataframe=train_features,\n",
    "                         index=\"PassengerId\",\n",
    "                         variable_types={\n",
    "                             \"Pclass\": ft.variable_types.Categorical,\n",
    "                             \"Sex\": ft.variable_types.Categorical,\n",
    "                             \"Embarked\": ft.variable_types.Categorical,\n",
    "                             \"CabinClass\": ft.variable_types.Categorical,\n",
    "                             \"LastName\": ft.variable_types.Categorical,\n",
    "                             \"Honorific\": ft.variable_types.Categorical,\n",
    "                             \"TicketPrefix\": ft.variable_types.Categorical\n",
    "                           })\n",
    "es.normalize_entity(base_entity_id=\"titanic\",\n",
    "                new_entity_id=\"classes\",\n",
    "                index=\"Pclass\")\n",
    "es.normalize_entity(base_entity_id=\"titanic\",\n",
    "                new_entity_id=\"sexes\",\n",
    "                index=\"Sex\")\n",
    "es.normalize_entity(base_entity_id=\"titanic\",\n",
    "                new_entity_id=\"embarkeds\",\n",
    "                index=\"Embarked\")\n",
    "es.normalize_entity(base_entity_id=\"titanic\",\n",
    "                new_entity_id=\"cabinclasses\",\n",
    "                index=\"CabinClass\")\n",
    "es.normalize_entity(base_entity_id=\"titanic\",\n",
    "                new_entity_id=\"honorfics\",\n",
    "                index=\"Honorific\")\n",
    "es.normalize_entity(base_entity_id=\"titanic\",\n",
    "                new_entity_id=\"lastnames\",\n",
    "                index=\"LastName\")\n",
    "es.normalize_entity(base_entity_id=\"titanic\",\n",
    "                new_entity_id=\"ticketprefixes\",\n",
    "                index=\"TicketPrefix\")\n",
    "feature_matrix, features = ft.dfs(entityset=es,\n",
    "                              target_entity=\"titanic\",\n",
    "                              save_progress=\"results/\",\n",
    "                              verbose=True)\n",
    "\n",
    "feature_matrix, features = ft.encode_features(feature_matrix, features)\n",
    "imputer = Imputer(strategy='median')\n",
    "imputed_matrix = imputer.fit_transform(feature_matrix)"
   ]
  },
  {
   "cell_type": "code",
   "execution_count": null,
   "metadata": {},
   "outputs": [],
   "source": []
  },
  {
   "cell_type": "code",
   "execution_count": 21,
   "metadata": {},
   "outputs": [],
   "source": [
    "calibrated_estimators = []\n",
    "for name, pickle_file in pickle_files:\n",
    "    with open(f\"results/models/{pickle_file}\", \"rb\") as model_file:\n",
    "        hyperopt_model = pickle.load(model_file)\n",
    "        model = hyperopt_model.best_model()['learner']\n",
    "        prepro = hyperopt_model.best_model()['preprocs']\n",
    "        pipeline = make_pipeline(*prepro, model)\n",
    "        calibrator = CalibratedClassifierCV(pipeline, cv=5, method=\"isotonic\")\n",
    "        calibrator.fit(imputed_matrix, train_target)\n",
    "        calibrated_estimators.append((name, calibrator))"
   ]
  },
  {
   "cell_type": "code",
   "execution_count": 23,
   "metadata": {},
   "outputs": [],
   "source": [
    "classifiers = [x[1] for x in calibrated_estimators]"
   ]
  },
  {
   "cell_type": "code",
   "execution_count": 27,
   "metadata": {},
   "outputs": [],
   "source": [
    "stack = StackingClassifier(classifiers=classifiers, \n",
    "                   meta_classifier=XGBClassifier(),\n",
    "                   use_probas=True,\n",
    "                   average_probas=False)"
   ]
  },
  {
   "cell_type": "code",
   "execution_count": 30,
   "metadata": {},
   "outputs": [
    {
     "name": "stderr",
     "output_type": "stream",
     "text": [
      "/home/deadhead/miniconda3/envs/automl-talk/lib/python3.6/site-packages/sklearn/preprocessing/label.py:151: DeprecationWarning: The truth value of an empty array is ambiguous. Returning False, but in future this will result in an error. Use `array.size > 0` to check that an array is not empty.\n",
      "  if diff:\n",
      "/home/deadhead/miniconda3/envs/automl-talk/lib/python3.6/site-packages/sklearn/preprocessing/label.py:151: DeprecationWarning: The truth value of an empty array is ambiguous. Returning False, but in future this will result in an error. Use `array.size > 0` to check that an array is not empty.\n",
      "  if diff:\n",
      "/home/deadhead/miniconda3/envs/automl-talk/lib/python3.6/site-packages/sklearn/preprocessing/label.py:151: DeprecationWarning: The truth value of an empty array is ambiguous. Returning False, but in future this will result in an error. Use `array.size > 0` to check that an array is not empty.\n",
      "  if diff:\n"
     ]
    },
    {
     "data": {
      "text/plain": [
       "array([0.78451178, 0.86531987, 0.84848485])"
      ]
     },
     "execution_count": 30,
     "metadata": {},
     "output_type": "execute_result"
    }
   ],
   "source": [
    "cross_val_score(stack, imputed_matrix, train_target)"
   ]
  },
  {
   "cell_type": "code",
   "execution_count": 31,
   "metadata": {},
   "outputs": [
    {
     "data": {
      "text/plain": [
       "StackingClassifier(average_probas=False,\n",
       "          classifiers=[CalibratedClassifierCV(base_estimator=Pipeline(memory=None,\n",
       "     steps=[('minmaxscaler', MinMaxScaler(copy=True, feature_range=(-1.0, 1.0))), ('gradientboostingclassifier', GradientBoostingClassifier(criterion='friedman_mse', init=None,\n",
       "              learning_rate=0.005168273904849856, ...ndom_state=2,\n",
       "            verbose=False, warm_start=False))]),\n",
       "            cv=5, method='isotonic')],\n",
       "          meta_classifier=XGBClassifier(base_score=0.5, booster='gbtree', colsample_bylevel=1,\n",
       "       colsample_bytree=1, gamma=0, learning_rate=0.1, max_delta_step=0,\n",
       "       max_depth=3, min_child_weight=1, missing=None, n_estimators=100,\n",
       "       n_jobs=1, nthread=None, objective='binary:logistic', random_state=0,\n",
       "       reg_alpha=0, reg_lambda=1, scale_pos_weight=1, seed=None,\n",
       "       silent=True, subsample=1),\n",
       "          refit=True, store_train_meta_features=False,\n",
       "          use_features_in_secondary=False, use_probas=True, verbose=0)"
      ]
     },
     "execution_count": 31,
     "metadata": {},
     "output_type": "execute_result"
    }
   ],
   "source": [
    "stack.fit(imputed_matrix, train_target)"
   ]
  },
  {
   "cell_type": "code",
   "execution_count": 34,
   "metadata": {},
   "outputs": [
    {
     "name": "stderr",
     "output_type": "stream",
     "text": [
      "/home/deadhead/miniconda3/envs/automl-talk/lib/python3.6/site-packages/ipykernel_launcher.py:5: FutureWarning: currently extract(expand=None) means expand=False (return Index/Series/DataFrame) but in a future version of pandas this will be changed to expand=True (return DataFrame)\n",
      "  \"\"\"\n",
      "/home/deadhead/miniconda3/envs/automl-talk/lib/python3.6/site-packages/ipykernel_launcher.py:6: FutureWarning: currently extract(expand=None) means expand=False (return Index/Series/DataFrame) but in a future version of pandas this will be changed to expand=True (return DataFrame)\n",
      "  \n",
      "/home/deadhead/miniconda3/envs/automl-talk/lib/python3.6/site-packages/ipykernel_launcher.py:7: FutureWarning: currently extract(expand=None) means expand=False (return Index/Series/DataFrame) but in a future version of pandas this will be changed to expand=True (return DataFrame)\n",
      "  import sys\n"
     ]
    }
   ],
   "source": [
    "test_df = pd.read_csv(\"data/test.csv\")\n",
    "test_df[\"Pclass\"] = test_df[\"Pclass\"].astype(\"category\")\n",
    "test_df['CabinClass'] = test_df[\"Cabin\"].str.get(0)\n",
    "test_df['LastName'] = test_df['Name'].str.split(\", \").apply(lambda x: x[0])\n",
    "test_df['Honorific'] = test_df['Name'].str.extract(\" ([a-zA-z]+)\")\n",
    "test_df['TicketPrefix'] = test_df['Ticket'].str.extract(\"(.+) \")\n",
    "test_df['TicketNumber'] = test_df['Ticket'].str.extract(\"([0-9]+)$\").astype(float)\n",
    "test_df = test_df.drop(columns=[\"Name\", \"Cabin\", \"Ticket\"])\n",
    "es = ft.EntitySet(id=\"titanic\")\n",
    "es.entity_from_dataframe(entity_id=\"titanic\",\n",
    "                         dataframe=test_df,\n",
    "                         index=\"PassengerId\",\n",
    "                         variable_types={\n",
    "                             \"Pclass\": ft.variable_types.Categorical,\n",
    "                             \"Sex\": ft.variable_types.Categorical,\n",
    "                             \"Embarked\": ft.variable_types.Categorical})\n",
    "es.normalize_entity(base_entity_id=\"titanic\",\n",
    "                new_entity_id=\"classes\",\n",
    "                index=\"Pclass\")\n",
    "es.normalize_entity(base_entity_id=\"titanic\",\n",
    "                new_entity_id=\"sexes\",\n",
    "                index=\"Sex\")\n",
    "es.normalize_entity(base_entity_id=\"titanic\",\n",
    "                new_entity_id=\"embarkeds\",\n",
    "                index=\"Embarked\")\n",
    "es.normalize_entity(base_entity_id=\"titanic\",\n",
    "                new_entity_id=\"cabinclasses\",\n",
    "                index=\"CabinClass\")\n",
    "es.normalize_entity(base_entity_id=\"titanic\",\n",
    "                new_entity_id=\"honorfics\",\n",
    "                index=\"Honorific\")\n",
    "es.normalize_entity(base_entity_id=\"titanic\",\n",
    "                new_entity_id=\"lastnames\",\n",
    "                index=\"LastName\")\n",
    "es.normalize_entity(base_entity_id=\"titanic\",\n",
    "                new_entity_id=\"ticketprefixes\",\n",
    "                index=\"TicketPrefix\")\n",
    "\n",
    "test_features = ft.load_features(\"results/encoded_features.pkl\", es)\n",
    "test_matrix = ft.calculate_feature_matrix(test_features)\n",
    "test_matrix = imputer.transform(test_matrix)"
   ]
  },
  {
   "cell_type": "code",
   "execution_count": 36,
   "metadata": {},
   "outputs": [
    {
     "name": "stderr",
     "output_type": "stream",
     "text": [
      "/home/deadhead/miniconda3/envs/automl-talk/lib/python3.6/site-packages/sklearn/preprocessing/label.py:151: DeprecationWarning: The truth value of an empty array is ambiguous. Returning False, but in future this will result in an error. Use `array.size > 0` to check that an array is not empty.\n",
      "  if diff:\n"
     ]
    }
   ],
   "source": [
    "submission_df = pd.DataFrame({'PassengerId': test_df['PassengerId'],\n",
    "              'Survived': stack.predict(test_matrix)})\n",
    "submission_df.to_csv(\"results/ft_hpsklearn_submission_stacked.csv\", index=False)"
   ]
  },
  {
   "cell_type": "code",
   "execution_count": null,
   "metadata": {},
   "outputs": [],
   "source": []
  }
 ],
 "metadata": {
  "kernelspec": {
   "display_name": "Python 3",
   "language": "python",
   "name": "python3"
  },
  "language_info": {
   "codemirror_mode": {
    "name": "ipython",
    "version": 3
   },
   "file_extension": ".py",
   "mimetype": "text/x-python",
   "name": "python",
   "nbconvert_exporter": "python",
   "pygments_lexer": "ipython3",
   "version": "3.6.2"
  }
 },
 "nbformat": 4,
 "nbformat_minor": 2
}
